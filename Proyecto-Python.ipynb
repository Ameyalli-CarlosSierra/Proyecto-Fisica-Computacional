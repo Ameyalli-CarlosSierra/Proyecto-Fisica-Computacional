{
 "cells": [
  {
   "cell_type": "markdown",
   "metadata": {},
   "source": [
    "# Examen 3\n",
    "## Física Computacional\n",
    "## Integrantes:\n",
    "### Carlos Sierra Evelin Ameyalli\n",
    "$Amee \\heartsuit Carlos$\n",
    "### Hernández Ramos Sandra \n",
    "$Sandii\\hbar ers^{\\heartsuit}$ 🦆🌵🌹🥀🌿🍀🌺🌷\n",
    "\n",
    "\n",
    "\n",
    "## Python"
   ]
  },
  {
   "cell_type": "markdown",
   "metadata": {},
   "source": [
    "## <span style=\"color:magenta\">Plateamiento del problema<span>"
   ]
  },
  {
   "cell_type": "markdown",
   "metadata": {},
   "source": [
    "Considera una partıcula de masa $m$ que se encuentra en el extremo de una vara de longitud $l$ de masa despreciable.\n",
    "La partícula es libre de columpiarse en cualquier dirección bajo la acción de la gravedad. Como la partícula está\n",
    "contrenida a moverse en la superficie de una esfera."
   ]
  },
  {
   "cell_type": "markdown",
   "metadata": {},
   "source": [
    "Tenemos el siguiente esquema"
   ]
  },
  {
   "cell_type": "markdown",
   "metadata": {},
   "source": [
    "<img src=\"P4_1.png\" width=\"400\" height=\"400\" alt=\"Esquema del problema planteado\">  \n",
    "Figura 1. Plateamiento del problema"
   ]
  },
  {
   "cell_type": "markdown",
   "metadata": {},
   "source": [
    "Vemos que este sistema es el mismo de un péndulo esférico."
   ]
  },
  {
   "cell_type": "markdown",
   "metadata": {},
   "source": [
    "## <span style=\"color:magenta\">Objetivo<span>"
   ]
  },
  {
   "cell_type": "markdown",
   "metadata": {},
   "source": [
    "## <span style=\"color:magenta\">Introducción del problema<span>"
   ]
  },
  {
   "cell_type": "markdown",
   "metadata": {},
   "source": [
    "## <span style=\"color:magenta\">Desarrollo del problema<span>"
   ]
  },
  {
   "cell_type": "markdown",
   "metadata": {},
   "source": [
    "Usando las coordenadas esféricas:"
   ]
  },
  {
   "cell_type": "markdown",
   "metadata": {},
   "source": [
    "<img src=\"P4_2.png\" width=\"400\" height=\"400\" alt=\"Esquema del problema planteado\">  \n",
    "Figura 2. Coordenadas esféricas en el problema"
   ]
  },
  {
   "cell_type": "markdown",
   "metadata": {},
   "source": [
    "$x=rsen\\theta cos\\varphi$\n",
    "\n",
    "$y=rsen\\theta sen \\varphi$\n",
    "\n",
    "$z=rcos\\theta$\n",
    "\n",
    "Ahora si consideramos $\\vec{r}$ como como la longitud de la vara $l$ podemos reescribir las ecuaciones anteriores como:\n",
    "\n",
    "$x=lsen\\theta cos\\varphi$\n",
    "\n",
    "$y=lsen\\theta sen \\varphi$\n",
    "\n",
    "$z=lcos\\theta$\n",
    "\n",
    "Podemos obtener las velocidades de cada componente si derivamos con respecto al tiempo:\n",
    "\n",
    "$\\frac{dx}{dt}=l cos \\theta \\frac{d\\theta}{dt}-lsen\\theta sen \\varphi\\frac{d\\varphi}{dt}$\n",
    "\n",
    "$\\frac{dy}{dt}=l cos \\theta \\frac{d\\theta}{dt} sen \\varphi + l sen \\theta cos \\varphi \\frac{d\\varphi}{dt}$\n",
    "\n",
    "$\\frac{dx}{dt}=-l sen \\theta \\frac{d\\theta}{dt}$"
   ]
  },
  {
   "cell_type": "markdown",
   "metadata": {},
   "source": [
    "## <span style=\"color:magenta\">Discusión y conclusión <span>"
   ]
  },
  {
   "cell_type": "markdown",
   "metadata": {},
   "source": [
    "## <span style=\"color:magenta\">Bibliografía<span>"
   ]
  },
  {
   "cell_type": "code",
   "execution_count": null,
   "metadata": {},
   "outputs": [],
   "source": []
  }
 ],
 "metadata": {
  "kernelspec": {
   "display_name": "Python 3",
   "language": "python",
   "name": "python3"
  },
  "language_info": {
   "codemirror_mode": {
    "name": "ipython",
    "version": 3
   },
   "file_extension": ".py",
   "mimetype": "text/x-python",
   "name": "python",
   "nbconvert_exporter": "python",
   "pygments_lexer": "ipython3",
   "version": "3.8.3"
  }
 },
 "nbformat": 4,
 "nbformat_minor": 4
}
