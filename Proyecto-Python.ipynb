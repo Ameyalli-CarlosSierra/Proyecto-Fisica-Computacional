{
 "cells": [
  {
   "cell_type": "markdown",
   "metadata": {},
   "source": [
    "# Examen 3\n",
    "## Física Computacional\n",
    "## Integrantes:\n",
    "### Carlos Sierra Evelin Ameyalli\n",
    "$Amee \\heartsuit Carlos$\n",
    "### Hernández Ramos Sandra \n",
    "$Sandii\\hbar ers^{\\heartsuit}$ 🦆🌵🌹🥀🌿🍀🌺🌷\n",
    "\n",
    "\n",
    "\n",
    "## Python"
   ]
  },
  {
   "cell_type": "code",
   "execution_count": 13,
   "metadata": {},
   "outputs": [],
   "source": [
    "# se importan la librerias necesarias\n",
    "from pylab import *\n",
    "from scipy.integrate import *\n",
    "from mpl_toolkits.mplot3d import Axes3D # modulo para graficar en 3 dimensiones\n",
    "from matplotlib import cm\n",
    "%matplotlib inline"
   ]
  },
  {
   "cell_type": "markdown",
   "metadata": {},
   "source": [
    "## <span style=\"color:magenta\">Plateamiento del problema<span>"
   ]
  },
  {
   "cell_type": "markdown",
   "metadata": {},
   "source": [
    "Considera una partıcula de masa $m$ que se encuentra en el extremo de una vara de longitud $l$ de masa despreciable.\n",
    "La partícula es libre de columpiarse en cualquier dirección bajo la acción de la gravedad. Como la partícula está\n",
    "contrenida a moverse en la superficie de una esfera."
   ]
  },
  {
   "cell_type": "markdown",
   "metadata": {},
   "source": [
    "Tenemos el siguiente esquema"
   ]
  },
  {
   "cell_type": "markdown",
   "metadata": {},
   "source": [
    "<img src=\"P4_1.png\" width=\"400\" height=\"400\" alt=\"Esquema del problema planteado\">  \n",
    "Figura 1. Plateamiento del problema"
   ]
  },
  {
   "cell_type": "markdown",
   "metadata": {},
   "source": [
    "Vemos que este sistema es el mismo de un péndulo esférico."
   ]
  },
  {
   "cell_type": "markdown",
   "metadata": {},
   "source": [
    "## <span style=\"color:magenta\">Objetivo<span>"
   ]
  },
  {
   "cell_type": "markdown",
   "metadata": {},
   "source": [
    "## <span style=\"color:magenta\">Introducción del problema<span>"
   ]
  },
  {
   "cell_type": "markdown",
   "metadata": {},
   "source": [
    "## <span style=\"color:magenta\">Desarrollo del problema<span>"
   ]
  },
  {
   "cell_type": "markdown",
   "metadata": {},
   "source": [
    "Usando las coordenadas esféricas:"
   ]
  },
  {
   "cell_type": "markdown",
   "metadata": {},
   "source": [
    "<img src=\"P4_2.png\" width=\"400\" height=\"400\" alt=\"Esquema del problema planteado\">  \n",
    "Figura 2. Coordenadas esféricas en el problema"
   ]
  },
  {
   "cell_type": "markdown",
   "metadata": {},
   "source": [
    "$x=rsen\\theta cos\\varphi$\n",
    "\n",
    "$y=rsen\\theta sen \\varphi$\n",
    "\n",
    "$z=rcos\\theta$\n",
    "\n",
    "Ahora si consideramos $\\vec{r}$ como como la longitud de la vara $l$ podemos reescribir las ecuaciones anteriores como:\n",
    "\n",
    "$x=lsen\\theta cos\\varphi$\n",
    "\n",
    "$y=lsen\\theta sen \\varphi$\n",
    "\n",
    "$z=lcos\\theta$\n",
    "\n",
    "Podemos obtener las velocidades de cada componente si derivamos con respecto al tiempo:\n",
    "\n",
    "$\\frac{dx}{dt}=l cos \\theta \\frac{d\\theta}{dt}-lsen\\theta sen \\varphi\\frac{d\\varphi}{dt}$\n",
    "\n",
    "$\\frac{dy}{dt}=l cos \\theta \\frac{d\\theta}{dt} sen \\varphi + l sen \\theta cos \\varphi \\frac{d\\varphi}{dt}$\n",
    "\n",
    "$\\frac{dx}{dt}=-l sen \\theta \\frac{d\\theta}{dt}$"
   ]
  },
  {
   "cell_type": "markdown",
   "metadata": {},
   "source": [
    "Para poder obtener las ecuaciones de movimiento de la masa sostenida en el péndulo esférico, debemos obtener su lagrangiana. Recordemos que lagrangiana esta definida como la diferencia entre la energía cinetica y la energía potencial, es decir:\n",
    "$$L=T-V$$\n",
    "Entonces obtendremos la energía cinética $T$:\n",
    "La energía cinética es: \n",
    "$$T=\\frac{1}{2}mv^{2}$$\n",
    "pero en este caso la velocidad $v$ la podemos expresar como una suma de sus componentes:\n",
    "$$v^{2}=\\left(\\frac{dx}{dt}\\right)^{2}+\\left(\\frac{dy}{dt}\\right)^{2}+\\left(\\frac{dz}{dt}\\right)^{2}$$\n",
    "Ahora sustituyendo $v^{2}$ en $T$ obtenemos:\n",
    "$$T=\\frac{1}{2}m\\left(\\left(\\frac{dx}{dt}\\right)^{2}+\\left(\\frac{dy}{dt}\\right)^{2}+\\left(\\frac{dz}{dt}\\right)^{2}\\right)$$\n"
   ]
  },
  {
   "cell_type": "markdown",
   "metadata": {},
   "source": [
    "Ahora si sustituimos los valores de $\\frac{dx}{dt}$,$\\frac{dy}{dt}$ y $\\frac{dz}{dt}$ en $T$ tenemos:\n",
    "$$T=\\frac{1}{2}m\\left(\\left(l cos \\theta \\frac{d\\theta}{dt}-lsen\\theta sen \\varphi\\frac{d\\varphi}{dt}\\right)^{2}+\\left(l cos \\theta \\frac{d\\theta}{dt} sen \\varphi + l sen \\theta cos \\varphi \\frac{d\\varphi}{dt}\\right)^{2}+\\left(-l sen \\theta \\frac{d\\theta}{dt}\\right)^{2}\\right)$$"
   ]
  },
  {
   "cell_type": "markdown",
   "metadata": {},
   "source": [
    "por conveniencia $\\dot{\\theta}=\\frac{d\\theta}{dt}$ y $\\dot{\\varphi}=\\frac{d\\varphi}{dt}$"
   ]
  },
  {
   "cell_type": "markdown",
   "metadata": {},
   "source": [
    "$$T=\\frac{1}{2}m\\left(\\left(l cos \\theta \\dot{\\theta}-lsen\\theta sen \\varphi\\dot{\\varphi}\\right)^{2}+\\left(l cos \\theta \\dot{\\theta} sen \\varphi + l sen \\theta cos \\varphi \\dot{\\varphi}\\right)^{2}+\\left(-l sen \\theta \\dot{\\theta}\\right)^{2}\\right)$$"
   ]
  },
  {
   "cell_type": "markdown",
   "metadata": {},
   "source": [
    "Desarrollando tenemos:\n",
    "\\begin{equation}\n",
    "\\begin{aligned}\n",
    "T&=\\frac{1}{2}m\\left(\\left(l cos\\theta \\dot{\\theta}-l sen\\theta sen\\varphi\\dot{\\varphi}\\right)^{2}+\\left(l cos\\theta \\dot{\\theta} sen\\varphi + l sen\\theta cos\\varphi \\dot{\\varphi}\\right)^{2}+\\left(-l sen\\theta \\dot{\\theta}\\right)^{2}\\right)\\\\\n",
    "&=\\frac{1}{2}m\\left(l^{2}cos^{2}\\theta\\dot{\\theta}^{2}cos^{2}\\varphi+l^{2}sen^{2}\\theta sen^{2} \\varphi\\dot{\\varphi}^{2}-2l^{2}cos\\theta sen\\theta sen\\varphi cos\\varphi \\dot{\\theta} \\dot{\\varphi}+l^{2}cos^{2}\\theta\\dot{\\theta}^{2} sen^{2}\\varphi+l^{2} sen^{2}\\theta cos^{2}\\varphi \\dot{\\varphi}^{2}+2l^{2}cos\\theta sen\\theta sen\\varphi cos\\varphi \\dot{\\theta} \\dot{\\varphi}+l^{2}sen^{2}\\theta \\dot{\\theta}\\right)\\\\\n",
    "&=\\frac{1}{2}m\\left(l^{2} cos^{2}\\theta \\dot{\\theta}^{2} cos^{2}\\varphi+l^{2}sen^{2}\\theta sen^{2}\\varphi \\dot{\\varphi}^{2} + l^{2} cos^{2}\\theta + l^{2} cos^{2}\\theta \\dot{\\theta}^{2} sen^{2}\\varphi + l^{2} sen^{2}\\theta cos^{2}\\varphi \\dot{\\varphi}^{2} + l^{2} sen^{2}\\theta \\dot{\\theta}^{2}\\right)\\\\\n",
    "&=\\frac{1}{2}m l^{2}\\left(cos^{2}\\theta \\dot{\\theta}^{2} cos^{2}\\varphi + sen^{2}\\theta sen^{2}\\varphi \\dot{\\varphi}^{2} + cos^{2}\\theta \\dot{\\theta}^{2} sen^{2}\\varphi + sen^{2}\\theta cos^{2}\\varphi \\dot{\\varphi}^{2} + sen^{2}\\theta \\dot{\\theta}^{2} \\right)\\\\\n",
    "&=\\frac{1}{2}m l^{2}\\left(\\dot{\\theta}^{2}\\left(cos^{2}\\theta cos^{2}\\varphi+cos^{2}\\theta sen^{2}\\varphi + sen^{2}\\theta \\right)+\\dot{\\varphi}^{2}\\left(sen^{2}\\theta sen^{2}\\varphi + sen^{2}\\theta cos^{2}\\varphi\\right)\\right)\\\\\n",
    "&=\\frac{1}{2}m l^{2}\\left(\\dot{\\theta}^{2}\\left(cos^{2}\\theta \\left(cos^{2}\\varphi + sen^{2}\\varphi \\right) + sen^{2}\\theta \\right)+\\dot{\\varphi}^{2}\\left(sen^{2}\\theta\\left(sen^{2}\\varphi + cos^{2}\\varphi\\right)\\right)\\right)\\\\\n",
    "&=\\frac{1}{2}m l^{2}\\left(\\dot{\\theta}^{2}\\left(cos^{2}\\theta  + sen^{2}\\theta \\right)+\\dot{\\varphi}^{2}sen^{2}\\theta\\right)\\\\\n",
    "&=\\frac{1}{2}ml^{2}\\left(\\dot{\\theta}^{2}+\\dot{\\varphi}^{2}sen^{2}\\theta\\right)\n",
    "\\end{aligned}\n",
    "\\end{equation}\n",
    "\n",
    "Entonces tenemos a la energía cinética como:\n",
    "$$T=\\frac{1}{2}ml^{2}\\left(\\dot{\\theta}^{2}+\\dot{\\varphi}^{2}sen^{2}\\theta\\right)$$\n"
   ]
  },
  {
   "cell_type": "markdown",
   "metadata": {},
   "source": [
    "Ahora obtendremos la energía potencial $V$:\n",
    "La energía potencial esta dada por $V=-mgz$ usando $z=l cos\\theta$:\n",
    "$$V=-mglcos\\theta$$\n"
   ]
  },
  {
   "cell_type": "markdown",
   "metadata": {},
   "source": [
    "Entonces la Lagrangia **$L=T-V$** la podemos reescribir sustituyendo $T$ y $V$ que ya obtuvimos:\n",
    "$$L=\\frac{1}{2}ml^{2}\\left(\\dot{\\theta}^{2}+\\dot{\\varphi}^{2}sen^{2}\\theta\\right)+mglcos\\theta$$"
   ]
  },
  {
   "cell_type": "markdown",
   "metadata": {},
   "source": [
    "Apartir de la Lagrangiana podemos obtener las ecuaciones de movimiento:"
   ]
  },
  {
   "cell_type": "markdown",
   "metadata": {},
   "source": [
    "La primer ecuación de movimiento es:\n",
    "$$\\frac{d}{dt}=\\left(\\frac{\\partial L}{\\partial \\dot{\\theta}}\\right)-\\frac{\\partial L}{\\partial \\theta}=0$$\n",
    "Sustituyendo y resolviendo tenemos:\n",
    "$$\n",
    "l\\frac{d^{2}\\theta}{dt^{2}}-l sen\\theta cos\\theta \\left(\\frac{d\\varphi}{dt}\\right)^{2}+g sen\\theta=0 ...(1)\n",
    "$$\n",
    "    "
   ]
  },
  {
   "cell_type": "code",
   "execution_count": 2,
   "metadata": {},
   "outputs": [
    {
     "ename": "SyntaxError",
     "evalue": "invalid syntax (<ipython-input-2-29f8cb4f8555>, line 1)",
     "output_type": "error",
     "traceback": [
      "\u001b[1;36m  File \u001b[1;32m\"<ipython-input-2-29f8cb4f8555>\"\u001b[1;36m, line \u001b[1;32m1\u001b[0m\n\u001b[1;33m    def pendulo_esf(dx,x,p,t)\u001b[0m\n\u001b[1;37m                              ^\u001b[0m\n\u001b[1;31mSyntaxError\u001b[0m\u001b[1;31m:\u001b[0m invalid syntax\n"
     ]
    }
   ],
   "source": [
    "def pendulo_esf(dx,x,p,t) \n",
    "    theta_d = x[0]\n",
    "    phi_d = x[1]\n",
    "    theta = x[2]\n",
    "    phi = x[3]\n",
    "    theta_dd = phi_d**2*cos(theta)*sin(theta)-g/l*sin(theta)\n",
    "    phi_dd = -2*theta_d*phi_d/tan(theta)\n",
    "    \n",
    "end"
   ]
  },
  {
   "cell_type": "raw",
   "metadata": {},
   "source": [
    "## <span style=\"color:magenta\">Discusión y conclusión <span>"
   ]
  },
  {
   "cell_type": "markdown",
   "metadata": {},
   "source": [
    "## <span style=\"color:magenta\">Bibliografía<span>"
   ]
  },
  {
   "cell_type": "code",
   "execution_count": null,
   "metadata": {},
   "outputs": [],
   "source": []
  },
  {
   "cell_type": "code",
   "execution_count": null,
   "metadata": {},
   "outputs": [],
   "source": []
  }
 ],
 "metadata": {
  "kernelspec": {
   "display_name": "Python 3",
   "language": "python",
   "name": "python3"
  },
  "language_info": {
   "codemirror_mode": {
    "name": "ipython",
    "version": 3
   },
   "file_extension": ".py",
   "mimetype": "text/x-python",
   "name": "python",
   "nbconvert_exporter": "python",
   "pygments_lexer": "ipython3",
   "version": "3.8.3"
  }
 },
 "nbformat": 4,
 "nbformat_minor": 4
}
