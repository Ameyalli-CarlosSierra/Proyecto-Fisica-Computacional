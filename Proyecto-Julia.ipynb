{
 "cells": [
  {
   "cell_type": "markdown",
   "metadata": {},
   "source": [
    "# Examen 3\n",
    "## Física Computacional\n",
    "## Integrantes:\n",
    "### Carlos Sierra Evelin Ameyalli\n",
    "$Amee \\heartsuit Carlos$\n",
    "### Hernández Ramos Sandra \n",
    "$Sandii\\hbar ers^{\\heartsuit}$ 🦆🌵🌹🥀🌿🍀🌺🌷\n",
    "\n",
    "\n",
    "\n",
    "## Julia"
   ]
  },
  {
   "cell_type": "code",
   "execution_count": 18,
   "metadata": {},
   "outputs": [
    {
     "ename": "ArgumentError",
     "evalue": "ArgumentError: Package DifferentialEquations not found in current path:\n- Run `import Pkg; Pkg.add(\"DifferentialEquations\")` to install the DifferentialEquations package.\n",
     "output_type": "error",
     "traceback": [
      "ArgumentError: Package DifferentialEquations not found in current path:\n- Run `import Pkg; Pkg.add(\"DifferentialEquations\")` to install the DifferentialEquations package.\n",
      "",
      "Stacktrace:",
      " [1] require(::Module, ::Symbol) at .\\loading.jl:823",
      " [2] top-level scope at In[18]:4"
     ]
    }
   ],
   "source": [
    "using Plots\n",
    "using DataFrames\n",
    "using LaTeXStrings\n",
    "using DifferentialEquations\n",
    "using BenchmarkTools"
   ]
  },
  {
   "cell_type": "code",
   "execution_count": 20,
   "metadata": {},
   "outputs": [
    {
     "name": "stdout",
     "output_type": "stream",
     "text": [
      "\u001b[32m\u001b[1m Resolving\u001b[22m\u001b[39m package versions...\n"
     ]
    },
    {
     "ename": "Pkg.Types.ResolverError",
     "evalue": "Unsatisfiable requirements detected for package RecipesBase [3cdcf5f2]:\n RecipesBase [3cdcf5f2] log:\n ├─possible versions are: [0.4.0, 0.5.0, 0.6.0, 0.7.0, 0.8.0, 1.0.0-1.0.2, 1.1.0-1.1.1] or uninstalled\n ├─restricted by compatibility requirements with Plots [91a5bcdd] to versions: [1.0.0-1.0.2, 1.1.0-1.1.1]\n │ └─Plots [91a5bcdd] log:\n │   ├─possible versions are: [0.12.1-0.12.4, 0.13.0-0.13.1, 0.14.0-0.14.2, 0.15.0-0.15.1, 0.16.0, 0.17.0-0.17.4, 0.18.0, 0.19.0-0.19.3, 0.20.0-0.20.6, 0.21.0, 0.22.0-0.22.5, 0.23.0-0.23.2, 0.24.0, 0.25.0-0.25.3, 0.26.0-0.26.3, 0.27.0-0.27.1, 0.28.0-0.28.4, 0.29.0-0.29.9, 1.0.0-1.0.14, 1.1.0-1.1.4, 1.2.0-1.2.6, 1.3.0-1.3.7, 1.4.0-1.4.4, 1.5.0-1.5.9, 1.6.0-1.6.12, 1.7.0-1.7.3, 1.8.0-1.8.1, 1.9.0-1.9.1, 1.10.0-1.10.2] or uninstalled\n │   └─restricted to versions 1.4.3 by an explicit requirement, leaving only versions 1.4.3\n └─restricted by compatibility requirements with DiffEqBase [2b5f629d] to versions: [0.4.0, 0.5.0, 0.6.0, 0.7.0, 0.8.0] — no versions left\n   └─DiffEqBase [2b5f629d] log:\n     ├─possible versions are: [3.13.2-3.13.3, 4.0.0-4.0.1, 4.1.0, 4.2.0, 4.3.0-4.3.1, 4.4.0, 4.5.0, 4.6.0, 4.7.0, 4.8.0, 4.9.0, 4.10.0-4.10.1, 4.11.0-4.11.1, 4.12.0, 4.13.0, 4.14.0-4.14.1, 4.15.0, 4.16.0, 4.17.0, 4.18.0, 4.19.0, 4.20.0-4.20.3, 4.21.0, 4.21.2-4.21.3, 4.22.0-4.22.2, 4.23.0, 4.23.2-4.23.4, 4.24.0-4.24.3, 4.25.0-4.25.1, 4.26.0-4.26.3, 4.27.0-4.27.1, 4.28.0-4.28.1, 4.29.0-4.29.2, 4.30.0-4.30.2, 4.31.0-4.31.2, 4.32.0, 5.0.0-5.0.1, 5.1.0, 5.2.0-5.2.3, 5.3.0-5.3.2, 5.4.0-5.4.1, 5.5.0-5.5.2, 5.6.0-5.6.4, 5.7.0, 5.8.0-5.8.1, 5.9.0, 5.10.0-5.10.3, 5.11.0-5.11.1, 5.12.0, 5.13.0, 5.14.0-5.14.2, 5.15.0, 5.16.0-5.16.5, 5.17.0-5.17.1, 5.18.0, 5.19.0, 5.20.0-5.20.1, 6.0.0, 6.1.0, 6.2.0-6.2.4, 6.3.0-6.3.6, 6.4.0-6.4.2, 6.5.0-6.5.1, 6.6.0, 6.7.0, 6.8.0, 6.9.0-6.9.4, 6.10.0-6.10.2, 6.11.0, 6.12.0-6.12.5, 6.13.0-6.13.3, 6.14.0-6.14.2, 6.15.0-6.15.2, 6.16.0, 6.17.0-6.17.3, 6.18.0-6.18.1, 6.19.0, 6.20.0, 6.21.0-6.21.1, 6.22.0-6.22.2, 6.23.0, 6.24.0, 6.25.0-6.25.2, 6.26.0, 6.27.0, 6.28.0, 6.29.0-6.29.3, 6.30.0-6.30.4, 6.31.0-6.31.1, 6.32.0-6.32.2, 6.33.0-6.33.1, 6.34.0-6.34.3, 6.35.0-6.35.2, 6.36.0-6.36.4, 6.37.0, 6.38.0-6.38.4, 6.39.0-6.39.1, 6.40.0-6.40.9, 6.41.0-6.41.3, 6.42.0, 6.43.0-6.43.1, 6.44.0-6.44.3, 6.45.0-6.45.1, 6.46.0-6.46.1, 6.47.0-6.47.1, 6.48.0-6.48.2, 6.49.0-6.49.2, 6.50.0, 6.51.0, 6.52.0-6.52.2, 6.53.0-6.53.6, 6.54.0-6.54.1, 6.55.0, 6.56.0] or uninstalled\n     ├─restricted by julia compatibility requirements to versions: [3.13.2-3.13.3, 4.0.0-4.0.1, 4.1.0, 4.2.0, 4.3.0-4.3.1, 4.4.0, 4.5.0, 4.6.0, 4.7.0, 4.8.0, 4.9.0, 4.10.0-4.10.1, 4.11.0-4.11.1, 4.12.0, 4.13.0, 4.14.0-4.14.1, 4.15.0, 4.16.0, 4.17.0, 4.18.0, 4.19.0, 4.20.0-4.20.3, 4.21.0, 4.21.2-4.21.3, 4.22.0-4.22.2, 4.23.0, 4.23.2-4.23.4, 4.24.0-4.24.3, 4.25.0-4.25.1, 4.26.0-4.26.3, 4.27.0-4.27.1, 4.28.0-4.28.1, 4.29.0-4.29.2, 4.30.0-4.30.2, 4.31.0-4.31.2, 4.32.0, 5.0.0-5.0.1, 5.1.0, 5.2.0-5.2.3, 5.3.0-5.3.2, 5.4.0-5.4.1, 5.5.0-5.5.2, 5.6.0-5.6.4, 5.7.0, 5.8.0-5.8.1, 5.9.0, 5.10.0-5.10.3, 5.11.0-5.11.1, 5.12.0, 5.13.0, 5.14.0-5.14.2, 5.15.0, 5.16.0-5.16.5, 5.17.0-5.17.1, 5.18.0, 5.19.0, 5.20.0-5.20.1, 6.0.0, 6.1.0, 6.2.0-6.2.4, 6.3.0-6.3.6, 6.4.0-6.4.2, 6.5.0-6.5.1, 6.6.0, 6.7.0, 6.8.0, 6.9.0-6.9.4, 6.10.0-6.10.2, 6.11.0, 6.12.0-6.12.5, 6.13.0-6.13.3, 6.14.0-6.14.2, 6.15.0-6.15.2, 6.16.0, 6.17.0-6.17.3, 6.18.0-6.18.1, 6.19.0, 6.20.0] or uninstalled\n     ├─restricted by compatibility requirements with Roots [f2b01f46] to versions: [3.13.2-3.13.3, 4.0.0-4.0.1, 4.1.0, 4.2.0, 4.3.0-4.3.1, 4.4.0, 4.5.0, 4.6.0, 4.7.0, 4.8.0, 4.9.0, 4.10.0-4.10.1, 4.11.0-4.11.1, 4.12.0, 4.13.0, 4.14.0-4.14.1, 4.15.0, 4.16.0, 4.17.0, 4.18.0, 4.19.0, 4.20.0-4.20.3, 4.21.0, 4.21.2-4.21.3, 4.22.0-4.22.2, 4.23.0, 4.23.2-4.23.4, 4.24.0-4.24.3, 4.25.0-4.25.1, 4.26.0-4.26.3, 4.27.0-4.27.1, 6.19.0, 6.20.0, 6.21.0-6.21.1, 6.22.0-6.22.2, 6.23.0, 6.24.0, 6.25.0-6.25.2, 6.26.0, 6.27.0, 6.28.0, 6.29.0-6.29.3, 6.30.0-6.30.4, 6.31.0-6.31.1, 6.32.0-6.32.2, 6.33.0-6.33.1, 6.34.0-6.34.3, 6.35.0-6.35.2, 6.36.0-6.36.4, 6.37.0, 6.38.0-6.38.4, 6.39.0-6.39.1, 6.40.0-6.40.9, 6.41.0-6.41.3, 6.42.0, 6.43.0-6.43.1, 6.44.0-6.44.3, 6.45.0-6.45.1, 6.46.0-6.46.1, 6.47.0-6.47.1, 6.48.0-6.48.2, 6.49.0-6.49.2, 6.50.0, 6.51.0, 6.52.0-6.52.2, 6.53.0-6.53.6, 6.54.0-6.54.1, 6.55.0, 6.56.0] or uninstalled, leaving only versions: [3.13.2-3.13.3, 4.0.0-4.0.1, 4.1.0, 4.2.0, 4.3.0-4.3.1, 4.4.0, 4.5.0, 4.6.0, 4.7.0, 4.8.0, 4.9.0, 4.10.0-4.10.1, 4.11.0-4.11.1, 4.12.0, 4.13.0, 4.14.0-4.14.1, 4.15.0, 4.16.0, 4.17.0, 4.18.0, 4.19.0, 4.20.0-4.20.3, 4.21.0, 4.21.2-4.21.3, 4.22.0-4.22.2, 4.23.0, 4.23.2-4.23.4, 4.24.0-4.24.3, 4.25.0-4.25.1, 4.26.0-4.26.3, 4.27.0-4.27.1, 6.19.0, 6.20.0] or uninstalled\n     │ └─Roots [f2b01f46] log:\n     │   ├─possible versions are: [0.7.0-0.7.4, 0.8.0-0.8.1, 0.8.3-0.8.4, 1.0.0-1.0.8] or uninstalled\n     │   └─restricted to versions 1.0.7 by an explicit requirement, leaving only versions 1.0.7\n     └─restricted by compatibility requirements with DifferentialEquations [0c46a032] to versions: [3.13.2-3.13.3, 4.0.0-4.0.1, 4.1.0, 4.2.0, 4.3.0-4.3.1, 4.4.0, 4.5.0, 4.6.0, 4.7.0, 4.8.0, 4.9.0, 4.10.0-4.10.1, 4.11.0-4.11.1, 4.12.0, 4.13.0, 4.14.0-4.14.1, 4.15.0, 4.16.0, 4.17.0, 4.18.0, 4.19.0, 4.20.0-4.20.3, 4.21.0, 4.21.2-4.21.3, 4.22.0-4.22.2, 4.23.0, 4.23.2-4.23.4, 4.24.0-4.24.3, 4.25.0-4.25.1, 4.26.0-4.26.3, 4.27.0-4.27.1, 4.28.0-4.28.1, 4.29.0-4.29.2, 4.30.0-4.30.2, 4.31.0-4.31.2, 4.32.0, 5.0.0-5.0.1, 5.1.0, 5.2.0-5.2.3, 5.3.0-5.3.2, 5.4.0-5.4.1, 5.5.0-5.5.2, 5.6.0-5.6.4, 5.7.0, 5.8.0-5.8.1, 5.9.0, 5.10.0-5.10.3, 5.11.0-5.11.1, 5.12.0, 5.13.0, 5.14.0-5.14.2, 5.15.0, 5.16.0-5.16.5, 5.17.0-5.17.1, 5.18.0, 5.19.0, 5.20.0-5.20.1, 6.2.2-6.2.4, 6.3.0-6.3.6, 6.4.0-6.4.2, 6.5.0-6.5.1, 6.6.0, 6.7.0, 6.8.0, 6.9.0-6.9.4, 6.10.0-6.10.2, 6.11.0, 6.12.0-6.12.5, 6.13.0-6.13.3, 6.14.0-6.14.2, 6.15.0-6.15.2, 6.16.0, 6.17.0-6.17.3, 6.18.0-6.18.1, 6.19.0, 6.20.0, 6.21.0-6.21.1, 6.22.0-6.22.2, 6.23.0, 6.24.0, 6.25.0-6.25.2, 6.26.0, 6.27.0, 6.28.0, 6.29.0-6.29.3, 6.30.0-6.30.4, 6.31.0-6.31.1, 6.32.0-6.32.2, 6.33.0-6.33.1, 6.34.0-6.34.3, 6.35.0-6.35.2, 6.36.0-6.36.4, 6.37.0, 6.38.0-6.38.4, 6.39.0-6.39.1, 6.40.0-6.40.9, 6.41.0-6.41.3, 6.42.0, 6.43.0-6.43.1, 6.44.0-6.44.3, 6.45.0-6.45.1, 6.46.0-6.46.1, 6.47.0-6.47.1, 6.48.0-6.48.2, 6.49.0-6.49.2, 6.50.0, 6.51.0, 6.52.0-6.52.2, 6.53.0-6.53.6, 6.54.0-6.54.1, 6.55.0, 6.56.0], leaving only versions: [3.13.2-3.13.3, 4.0.0-4.0.1, 4.1.0, 4.2.0, 4.3.0-4.3.1, 4.4.0, 4.5.0, 4.6.0, 4.7.0, 4.8.0, 4.9.0, 4.10.0-4.10.1, 4.11.0-4.11.1, 4.12.0, 4.13.0, 4.14.0-4.14.1, 4.15.0, 4.16.0, 4.17.0, 4.18.0, 4.19.0, 4.20.0-4.20.3, 4.21.0, 4.21.2-4.21.3, 4.22.0-4.22.2, 4.23.0, 4.23.2-4.23.4, 4.24.0-4.24.3, 4.25.0-4.25.1, 4.26.0-4.26.3, 4.27.0-4.27.1, 6.19.0, 6.20.0]\n       └─DifferentialEquations [0c46a032] log:\n         ├─possible versions are: [5.0.0, 5.1.0, 5.2.0-5.2.1, 5.3.0-5.3.1, 6.0.0, 6.1.0, 6.2.0, 6.3.0, 6.4.0, 6.6.0, 6.7.0, 6.8.0, 6.9.0, 6.10.0-6.10.1, 6.11.0, 6.12.0, 6.13.0, 6.14.0, 6.15.0, 6.16.0] or uninstalled\n         ├─restricted to versions * by an explicit requirement, leaving only versions [5.0.0, 5.1.0, 5.2.0-5.2.1, 5.3.0-5.3.1, 6.0.0, 6.1.0, 6.2.0, 6.3.0, 6.4.0, 6.6.0, 6.7.0, 6.8.0, 6.9.0, 6.10.0-6.10.1, 6.11.0, 6.12.0, 6.13.0, 6.14.0, 6.15.0, 6.16.0]\n         ├─restricted by julia compatibility requirements to versions: [5.0.0, 5.1.0, 5.2.0-5.2.1, 5.3.0-5.3.1, 6.0.0, 6.1.0, 6.2.0, 6.3.0, 6.8.0, 6.9.0, 6.10.0-6.10.1] or uninstalled, leaving only versions: [5.0.0, 5.1.0, 5.2.0-5.2.1, 5.3.0-5.3.1, 6.0.0, 6.1.0, 6.2.0, 6.3.0, 6.8.0, 6.9.0, 6.10.0-6.10.1]\n         └─restricted by compatibility requirements with DiffEqBase [2b5f629d] to versions: [5.0.0, 5.1.0, 5.2.0-5.2.1, 5.3.0-5.3.1, 6.4.0, 6.6.0, 6.7.0, 6.8.0, 6.9.0, 6.10.0-6.10.1, 6.11.0, 6.12.0, 6.13.0, 6.14.0, 6.15.0, 6.16.0] or uninstalled, leaving only versions: [5.0.0, 5.1.0, 5.2.0-5.2.1, 5.3.0-5.3.1, 6.8.0, 6.9.0, 6.10.0-6.10.1]\n           └─DiffEqBase [2b5f629d] log: see above",
     "output_type": "error",
     "traceback": [
      "Unsatisfiable requirements detected for package RecipesBase [3cdcf5f2]:\n RecipesBase [3cdcf5f2] log:\n ├─possible versions are: [0.4.0, 0.5.0, 0.6.0, 0.7.0, 0.8.0, 1.0.0-1.0.2, 1.1.0-1.1.1] or uninstalled\n ├─restricted by compatibility requirements with Plots [91a5bcdd] to versions: [1.0.0-1.0.2, 1.1.0-1.1.1]\n │ └─Plots [91a5bcdd] log:\n │   ├─possible versions are: [0.12.1-0.12.4, 0.13.0-0.13.1, 0.14.0-0.14.2, 0.15.0-0.15.1, 0.16.0, 0.17.0-0.17.4, 0.18.0, 0.19.0-0.19.3, 0.20.0-0.20.6, 0.21.0, 0.22.0-0.22.5, 0.23.0-0.23.2, 0.24.0, 0.25.0-0.25.3, 0.26.0-0.26.3, 0.27.0-0.27.1, 0.28.0-0.28.4, 0.29.0-0.29.9, 1.0.0-1.0.14, 1.1.0-1.1.4, 1.2.0-1.2.6, 1.3.0-1.3.7, 1.4.0-1.4.4, 1.5.0-1.5.9, 1.6.0-1.6.12, 1.7.0-1.7.3, 1.8.0-1.8.1, 1.9.0-1.9.1, 1.10.0-1.10.2] or uninstalled\n │   └─restricted to versions 1.4.3 by an explicit requirement, leaving only versions 1.4.3\n └─restricted by compatibility requirements with DiffEqBase [2b5f629d] to versions: [0.4.0, 0.5.0, 0.6.0, 0.7.0, 0.8.0] — no versions left\n   └─DiffEqBase [2b5f629d] log:\n     ├─possible versions are: [3.13.2-3.13.3, 4.0.0-4.0.1, 4.1.0, 4.2.0, 4.3.0-4.3.1, 4.4.0, 4.5.0, 4.6.0, 4.7.0, 4.8.0, 4.9.0, 4.10.0-4.10.1, 4.11.0-4.11.1, 4.12.0, 4.13.0, 4.14.0-4.14.1, 4.15.0, 4.16.0, 4.17.0, 4.18.0, 4.19.0, 4.20.0-4.20.3, 4.21.0, 4.21.2-4.21.3, 4.22.0-4.22.2, 4.23.0, 4.23.2-4.23.4, 4.24.0-4.24.3, 4.25.0-4.25.1, 4.26.0-4.26.3, 4.27.0-4.27.1, 4.28.0-4.28.1, 4.29.0-4.29.2, 4.30.0-4.30.2, 4.31.0-4.31.2, 4.32.0, 5.0.0-5.0.1, 5.1.0, 5.2.0-5.2.3, 5.3.0-5.3.2, 5.4.0-5.4.1, 5.5.0-5.5.2, 5.6.0-5.6.4, 5.7.0, 5.8.0-5.8.1, 5.9.0, 5.10.0-5.10.3, 5.11.0-5.11.1, 5.12.0, 5.13.0, 5.14.0-5.14.2, 5.15.0, 5.16.0-5.16.5, 5.17.0-5.17.1, 5.18.0, 5.19.0, 5.20.0-5.20.1, 6.0.0, 6.1.0, 6.2.0-6.2.4, 6.3.0-6.3.6, 6.4.0-6.4.2, 6.5.0-6.5.1, 6.6.0, 6.7.0, 6.8.0, 6.9.0-6.9.4, 6.10.0-6.10.2, 6.11.0, 6.12.0-6.12.5, 6.13.0-6.13.3, 6.14.0-6.14.2, 6.15.0-6.15.2, 6.16.0, 6.17.0-6.17.3, 6.18.0-6.18.1, 6.19.0, 6.20.0, 6.21.0-6.21.1, 6.22.0-6.22.2, 6.23.0, 6.24.0, 6.25.0-6.25.2, 6.26.0, 6.27.0, 6.28.0, 6.29.0-6.29.3, 6.30.0-6.30.4, 6.31.0-6.31.1, 6.32.0-6.32.2, 6.33.0-6.33.1, 6.34.0-6.34.3, 6.35.0-6.35.2, 6.36.0-6.36.4, 6.37.0, 6.38.0-6.38.4, 6.39.0-6.39.1, 6.40.0-6.40.9, 6.41.0-6.41.3, 6.42.0, 6.43.0-6.43.1, 6.44.0-6.44.3, 6.45.0-6.45.1, 6.46.0-6.46.1, 6.47.0-6.47.1, 6.48.0-6.48.2, 6.49.0-6.49.2, 6.50.0, 6.51.0, 6.52.0-6.52.2, 6.53.0-6.53.6, 6.54.0-6.54.1, 6.55.0, 6.56.0] or uninstalled\n     ├─restricted by julia compatibility requirements to versions: [3.13.2-3.13.3, 4.0.0-4.0.1, 4.1.0, 4.2.0, 4.3.0-4.3.1, 4.4.0, 4.5.0, 4.6.0, 4.7.0, 4.8.0, 4.9.0, 4.10.0-4.10.1, 4.11.0-4.11.1, 4.12.0, 4.13.0, 4.14.0-4.14.1, 4.15.0, 4.16.0, 4.17.0, 4.18.0, 4.19.0, 4.20.0-4.20.3, 4.21.0, 4.21.2-4.21.3, 4.22.0-4.22.2, 4.23.0, 4.23.2-4.23.4, 4.24.0-4.24.3, 4.25.0-4.25.1, 4.26.0-4.26.3, 4.27.0-4.27.1, 4.28.0-4.28.1, 4.29.0-4.29.2, 4.30.0-4.30.2, 4.31.0-4.31.2, 4.32.0, 5.0.0-5.0.1, 5.1.0, 5.2.0-5.2.3, 5.3.0-5.3.2, 5.4.0-5.4.1, 5.5.0-5.5.2, 5.6.0-5.6.4, 5.7.0, 5.8.0-5.8.1, 5.9.0, 5.10.0-5.10.3, 5.11.0-5.11.1, 5.12.0, 5.13.0, 5.14.0-5.14.2, 5.15.0, 5.16.0-5.16.5, 5.17.0-5.17.1, 5.18.0, 5.19.0, 5.20.0-5.20.1, 6.0.0, 6.1.0, 6.2.0-6.2.4, 6.3.0-6.3.6, 6.4.0-6.4.2, 6.5.0-6.5.1, 6.6.0, 6.7.0, 6.8.0, 6.9.0-6.9.4, 6.10.0-6.10.2, 6.11.0, 6.12.0-6.12.5, 6.13.0-6.13.3, 6.14.0-6.14.2, 6.15.0-6.15.2, 6.16.0, 6.17.0-6.17.3, 6.18.0-6.18.1, 6.19.0, 6.20.0] or uninstalled\n     ├─restricted by compatibility requirements with Roots [f2b01f46] to versions: [3.13.2-3.13.3, 4.0.0-4.0.1, 4.1.0, 4.2.0, 4.3.0-4.3.1, 4.4.0, 4.5.0, 4.6.0, 4.7.0, 4.8.0, 4.9.0, 4.10.0-4.10.1, 4.11.0-4.11.1, 4.12.0, 4.13.0, 4.14.0-4.14.1, 4.15.0, 4.16.0, 4.17.0, 4.18.0, 4.19.0, 4.20.0-4.20.3, 4.21.0, 4.21.2-4.21.3, 4.22.0-4.22.2, 4.23.0, 4.23.2-4.23.4, 4.24.0-4.24.3, 4.25.0-4.25.1, 4.26.0-4.26.3, 4.27.0-4.27.1, 6.19.0, 6.20.0, 6.21.0-6.21.1, 6.22.0-6.22.2, 6.23.0, 6.24.0, 6.25.0-6.25.2, 6.26.0, 6.27.0, 6.28.0, 6.29.0-6.29.3, 6.30.0-6.30.4, 6.31.0-6.31.1, 6.32.0-6.32.2, 6.33.0-6.33.1, 6.34.0-6.34.3, 6.35.0-6.35.2, 6.36.0-6.36.4, 6.37.0, 6.38.0-6.38.4, 6.39.0-6.39.1, 6.40.0-6.40.9, 6.41.0-6.41.3, 6.42.0, 6.43.0-6.43.1, 6.44.0-6.44.3, 6.45.0-6.45.1, 6.46.0-6.46.1, 6.47.0-6.47.1, 6.48.0-6.48.2, 6.49.0-6.49.2, 6.50.0, 6.51.0, 6.52.0-6.52.2, 6.53.0-6.53.6, 6.54.0-6.54.1, 6.55.0, 6.56.0] or uninstalled, leaving only versions: [3.13.2-3.13.3, 4.0.0-4.0.1, 4.1.0, 4.2.0, 4.3.0-4.3.1, 4.4.0, 4.5.0, 4.6.0, 4.7.0, 4.8.0, 4.9.0, 4.10.0-4.10.1, 4.11.0-4.11.1, 4.12.0, 4.13.0, 4.14.0-4.14.1, 4.15.0, 4.16.0, 4.17.0, 4.18.0, 4.19.0, 4.20.0-4.20.3, 4.21.0, 4.21.2-4.21.3, 4.22.0-4.22.2, 4.23.0, 4.23.2-4.23.4, 4.24.0-4.24.3, 4.25.0-4.25.1, 4.26.0-4.26.3, 4.27.0-4.27.1, 6.19.0, 6.20.0] or uninstalled\n     │ └─Roots [f2b01f46] log:\n     │   ├─possible versions are: [0.7.0-0.7.4, 0.8.0-0.8.1, 0.8.3-0.8.4, 1.0.0-1.0.8] or uninstalled\n     │   └─restricted to versions 1.0.7 by an explicit requirement, leaving only versions 1.0.7\n     └─restricted by compatibility requirements with DifferentialEquations [0c46a032] to versions: [3.13.2-3.13.3, 4.0.0-4.0.1, 4.1.0, 4.2.0, 4.3.0-4.3.1, 4.4.0, 4.5.0, 4.6.0, 4.7.0, 4.8.0, 4.9.0, 4.10.0-4.10.1, 4.11.0-4.11.1, 4.12.0, 4.13.0, 4.14.0-4.14.1, 4.15.0, 4.16.0, 4.17.0, 4.18.0, 4.19.0, 4.20.0-4.20.3, 4.21.0, 4.21.2-4.21.3, 4.22.0-4.22.2, 4.23.0, 4.23.2-4.23.4, 4.24.0-4.24.3, 4.25.0-4.25.1, 4.26.0-4.26.3, 4.27.0-4.27.1, 4.28.0-4.28.1, 4.29.0-4.29.2, 4.30.0-4.30.2, 4.31.0-4.31.2, 4.32.0, 5.0.0-5.0.1, 5.1.0, 5.2.0-5.2.3, 5.3.0-5.3.2, 5.4.0-5.4.1, 5.5.0-5.5.2, 5.6.0-5.6.4, 5.7.0, 5.8.0-5.8.1, 5.9.0, 5.10.0-5.10.3, 5.11.0-5.11.1, 5.12.0, 5.13.0, 5.14.0-5.14.2, 5.15.0, 5.16.0-5.16.5, 5.17.0-5.17.1, 5.18.0, 5.19.0, 5.20.0-5.20.1, 6.2.2-6.2.4, 6.3.0-6.3.6, 6.4.0-6.4.2, 6.5.0-6.5.1, 6.6.0, 6.7.0, 6.8.0, 6.9.0-6.9.4, 6.10.0-6.10.2, 6.11.0, 6.12.0-6.12.5, 6.13.0-6.13.3, 6.14.0-6.14.2, 6.15.0-6.15.2, 6.16.0, 6.17.0-6.17.3, 6.18.0-6.18.1, 6.19.0, 6.20.0, 6.21.0-6.21.1, 6.22.0-6.22.2, 6.23.0, 6.24.0, 6.25.0-6.25.2, 6.26.0, 6.27.0, 6.28.0, 6.29.0-6.29.3, 6.30.0-6.30.4, 6.31.0-6.31.1, 6.32.0-6.32.2, 6.33.0-6.33.1, 6.34.0-6.34.3, 6.35.0-6.35.2, 6.36.0-6.36.4, 6.37.0, 6.38.0-6.38.4, 6.39.0-6.39.1, 6.40.0-6.40.9, 6.41.0-6.41.3, 6.42.0, 6.43.0-6.43.1, 6.44.0-6.44.3, 6.45.0-6.45.1, 6.46.0-6.46.1, 6.47.0-6.47.1, 6.48.0-6.48.2, 6.49.0-6.49.2, 6.50.0, 6.51.0, 6.52.0-6.52.2, 6.53.0-6.53.6, 6.54.0-6.54.1, 6.55.0, 6.56.0], leaving only versions: [3.13.2-3.13.3, 4.0.0-4.0.1, 4.1.0, 4.2.0, 4.3.0-4.3.1, 4.4.0, 4.5.0, 4.6.0, 4.7.0, 4.8.0, 4.9.0, 4.10.0-4.10.1, 4.11.0-4.11.1, 4.12.0, 4.13.0, 4.14.0-4.14.1, 4.15.0, 4.16.0, 4.17.0, 4.18.0, 4.19.0, 4.20.0-4.20.3, 4.21.0, 4.21.2-4.21.3, 4.22.0-4.22.2, 4.23.0, 4.23.2-4.23.4, 4.24.0-4.24.3, 4.25.0-4.25.1, 4.26.0-4.26.3, 4.27.0-4.27.1, 6.19.0, 6.20.0]\n       └─DifferentialEquations [0c46a032] log:\n         ├─possible versions are: [5.0.0, 5.1.0, 5.2.0-5.2.1, 5.3.0-5.3.1, 6.0.0, 6.1.0, 6.2.0, 6.3.0, 6.4.0, 6.6.0, 6.7.0, 6.8.0, 6.9.0, 6.10.0-6.10.1, 6.11.0, 6.12.0, 6.13.0, 6.14.0, 6.15.0, 6.16.0] or uninstalled\n         ├─restricted to versions * by an explicit requirement, leaving only versions [5.0.0, 5.1.0, 5.2.0-5.2.1, 5.3.0-5.3.1, 6.0.0, 6.1.0, 6.2.0, 6.3.0, 6.4.0, 6.6.0, 6.7.0, 6.8.0, 6.9.0, 6.10.0-6.10.1, 6.11.0, 6.12.0, 6.13.0, 6.14.0, 6.15.0, 6.16.0]\n         ├─restricted by julia compatibility requirements to versions: [5.0.0, 5.1.0, 5.2.0-5.2.1, 5.3.0-5.3.1, 6.0.0, 6.1.0, 6.2.0, 6.3.0, 6.8.0, 6.9.0, 6.10.0-6.10.1] or uninstalled, leaving only versions: [5.0.0, 5.1.0, 5.2.0-5.2.1, 5.3.0-5.3.1, 6.0.0, 6.1.0, 6.2.0, 6.3.0, 6.8.0, 6.9.0, 6.10.0-6.10.1]\n         └─restricted by compatibility requirements with DiffEqBase [2b5f629d] to versions: [5.0.0, 5.1.0, 5.2.0-5.2.1, 5.3.0-5.3.1, 6.4.0, 6.6.0, 6.7.0, 6.8.0, 6.9.0, 6.10.0-6.10.1, 6.11.0, 6.12.0, 6.13.0, 6.14.0, 6.15.0, 6.16.0] or uninstalled, leaving only versions: [5.0.0, 5.1.0, 5.2.0-5.2.1, 5.3.0-5.3.1, 6.8.0, 6.9.0, 6.10.0-6.10.1]\n           └─DiffEqBase [2b5f629d] log: see above",
      "",
      "Stacktrace:",
      " [1] #propagate_constraints!#61(::Bool, ::Function, ::Pkg.GraphType.Graph, ::Set{Int64}) at C:\\cygwin\\home\\Administrator\\buildbot\\worker\\package_win64\\build\\usr\\share\\julia\\stdlib\\v1.0\\Pkg\\src\\GraphType.jl:1007",
      " [2] propagate_constraints! at C:\\cygwin\\home\\Administrator\\buildbot\\worker\\package_win64\\build\\usr\\share\\julia\\stdlib\\v1.0\\Pkg\\src\\GraphType.jl:948 [inlined]",
      " [3] #simplify_graph!#121(::Bool, ::Function, ::Pkg.GraphType.Graph, ::Set{Int64}) at C:\\cygwin\\home\\Administrator\\buildbot\\worker\\package_win64\\build\\usr\\share\\julia\\stdlib\\v1.0\\Pkg\\src\\GraphType.jl:1462",
      " [4] simplify_graph! at C:\\cygwin\\home\\Administrator\\buildbot\\worker\\package_win64\\build\\usr\\share\\julia\\stdlib\\v1.0\\Pkg\\src\\GraphType.jl:1462 [inlined] (repeats 2 times)",
      " [5] resolve_versions!(::Pkg.Types.Context, ::Array{Pkg.Types.PackageSpec,1}, ::Nothing) at C:\\cygwin\\home\\Administrator\\buildbot\\worker\\package_win64\\build\\usr\\share\\julia\\stdlib\\v1.0\\Pkg\\src\\Operations.jl:373",
      " [6] resolve_versions! at C:\\cygwin\\home\\Administrator\\buildbot\\worker\\package_win64\\build\\usr\\share\\julia\\stdlib\\v1.0\\Pkg\\src\\Operations.jl:316 [inlined]",
      " [7] #add_or_develop#62(::Array{Base.UUID,1}, ::Symbol, ::Function, ::Pkg.Types.Context, ::Array{Pkg.Types.PackageSpec,1}) at C:\\cygwin\\home\\Administrator\\buildbot\\worker\\package_win64\\build\\usr\\share\\julia\\stdlib\\v1.0\\Pkg\\src\\Operations.jl:1201",
      " [8] #add_or_develop at .\\none:0 [inlined]",
      " [9] #add_or_develop#15(::Symbol, ::Bool, ::Base.Iterators.Pairs{Union{},Union{},Tuple{},NamedTuple{(),Tuple{}}}, ::Function, ::Pkg.Types.Context, ::Array{Pkg.Types.PackageSpec,1}) at C:\\cygwin\\home\\Administrator\\buildbot\\worker\\package_win64\\build\\usr\\share\\julia\\stdlib\\v1.0\\Pkg\\src\\API.jl:69",
      " [10] #add_or_develop at .\\none:0 [inlined]",
      " [11] #add_or_develop#14 at C:\\cygwin\\home\\Administrator\\buildbot\\worker\\package_win64\\build\\usr\\share\\julia\\stdlib\\v1.0\\Pkg\\src\\API.jl:34 [inlined]",
      " [12] #add_or_develop at .\\none:0 [inlined]",
      " [13] #add_or_develop#11 at C:\\cygwin\\home\\Administrator\\buildbot\\worker\\package_win64\\build\\usr\\share\\julia\\stdlib\\v1.0\\Pkg\\src\\API.jl:33 [inlined]",
      " [14] #add_or_develop at .\\none:0 [inlined]",
      " [15] #add_or_develop#10 at C:\\cygwin\\home\\Administrator\\buildbot\\worker\\package_win64\\build\\usr\\share\\julia\\stdlib\\v1.0\\Pkg\\src\\API.jl:32 [inlined]",
      " [16] #add_or_develop at .\\none:0 [inlined]",
      " [17] #add#20 at C:\\cygwin\\home\\Administrator\\buildbot\\worker\\package_win64\\build\\usr\\share\\julia\\stdlib\\v1.0\\Pkg\\src\\API.jl:74 [inlined]",
      " [18] add(::String) at C:\\cygwin\\home\\Administrator\\buildbot\\worker\\package_win64\\build\\usr\\share\\julia\\stdlib\\v1.0\\Pkg\\src\\API.jl:74",
      " [19] top-level scope at In[20]:2"
     ]
    }
   ],
   "source": [
    "import Pkg\n",
    "Pkg.add(\"DifferentialEquations\")"
   ]
  },
  {
   "cell_type": "markdown",
   "metadata": {},
   "source": [
    "## <span style=\"color:magenta\">Plateamiento del problema<span>"
   ]
  },
  {
   "cell_type": "markdown",
   "metadata": {},
   "source": [
    "Considera una partıcula de masa $m$ que se encuentra en el extremo de una vara de longitud $l$ de masa despreciable.\n",
    "La partícula es libre de columpiarse en cualquier dirección bajo la acción de la gravedad. Como la partícula está\n",
    "contrenida a moverse en la superficie de una esfera."
   ]
  },
  {
   "cell_type": "markdown",
   "metadata": {},
   "source": [
    "Tenemos el siguiente esquema"
   ]
  },
  {
   "cell_type": "markdown",
   "metadata": {},
   "source": [
    "<img src=\"Problema 4 examen.png\" width=\"400\" height=\"400\" alt=\"Esquema del problema planteado\">  "
   ]
  },
  {
   "cell_type": "markdown",
   "metadata": {},
   "source": [
    "Vemos que este sistema es el mismo de un péndulo esférico."
   ]
  },
  {
   "cell_type": "markdown",
   "metadata": {},
   "source": [
    "## <span style=\"color:magenta\">Objetivo<span>"
   ]
  },
  {
   "cell_type": "markdown",
   "metadata": {},
   "source": [
    "Analizar el problema del péndulo esférico con herramientas aprendidas a lo largo del curso de Física Computacional."
   ]
  },
  {
   "cell_type": "markdown",
   "metadata": {},
   "source": [
    "## <span style=\"color:magenta\">Introducción del problema<span>"
   ]
  },
  {
   "cell_type": "markdown",
   "metadata": {},
   "source": [
    "El péndulo esférico no es más que el movimiento de una partícula sobre una superficie esférica. De acuerdo al planteamiento del problema tenemos que la partícula de masa $m$ está sujeta a una vara de radio $l$ y masa despreciable. Para facilitarnos el trabajo vamos a usar coordenadas esféricas en la resolución del problema $(r,\\phi,\\theta)$\n",
    "\n",
    "A continuación obtendremos las ecuaciones de movimiento y todo lo necesario para desarrollar la parte de programación.\n"
   ]
  },
  {
   "cell_type": "markdown",
   "metadata": {},
   "source": [
    "## <span style=\"color:magenta\">Desarrollo del problema<span>"
   ]
  },
  {
   "cell_type": "markdown",
   "metadata": {},
   "source": [
    "Usando las coordenadas esféricas:"
   ]
  },
  {
   "cell_type": "markdown",
   "metadata": {},
   "source": [
    "<img src=\"P4_2.png\" width=\"400\" height=\"400\" alt=\"Esquema del problema planteado\">  \n",
    "Figura 2. Coordenadas esféricas en el problema"
   ]
  },
  {
   "cell_type": "markdown",
   "metadata": {},
   "source": [
    "$x=rsen\\theta cos\\varphi$\n",
    "\n",
    "$y=rsen\\theta sen \\varphi$\n",
    "\n",
    "$z=rcos\\theta$\n",
    "\n",
    "Ahora si consideramos $\\vec{r}$ como como la longitud de la vara $l$ podemos reescribir las ecuaciones anteriores como:\n",
    "\n",
    "$x=lsen\\theta cos\\varphi$\n",
    "\n",
    "$y=lsen\\theta sen \\varphi$\n",
    "\n",
    "$z=lcos\\theta$\n",
    "\n",
    "Podemos obtener las velocidades de cada componente si derivamos con respecto al tiempo:\n",
    "\n",
    "$\\frac{dx}{dt}=l cos \\theta \\frac{d\\theta}{dt}-lsen\\theta sen \\varphi\\frac{d\\varphi}{dt}$\n",
    "\n",
    "$\\frac{dy}{dt}=l cos \\theta \\frac{d\\theta}{dt} sen \\varphi + l sen \\theta cos \\varphi \\frac{d\\varphi}{dt}$\n",
    "\n",
    "$\\frac{dx}{dt}=-l sen \\theta \\frac{d\\theta}{dt}$"
   ]
  },
  {
   "cell_type": "markdown",
   "metadata": {},
   "source": [
    "Para poder obtener las ecuaciones de movimiento de la masa sostenida en el péndulo esférico, debemos obtener su lagrangiana. Recordemos que lagrangiana esta definida como la diferencia entre la energía cinetica y la energía potencial, es decir:\n",
    "$$L=T-V$$\n",
    "Entonces obtendremos la energía cinética $T$:\n",
    "La energía cinética es: \n",
    "$$T=\\frac{1}{2}mv^{2}$$\n",
    "pero en este caso la velocidad $v$ la podemos expresar como una suma de sus componentes:\n",
    "$$v^{2}=\\left(\\frac{dx}{dt}\\right)^{2}+\\left(\\frac{dy}{dt}\\right)^{2}+\\left(\\frac{dz}{dt}\\right)^{2}$$\n",
    "Ahora sustituyendo $v^{2}$ en $T$ obtenemos:\n",
    "$$T=\\frac{1}{2}m\\left(\\left(\\frac{dx}{dt}\\right)^{2}+\\left(\\frac{dy}{dt}\\right)^{2}+\\left(\\frac{dz}{dt}\\right)^{2}\\right)$$"
   ]
  },
  {
   "cell_type": "markdown",
   "metadata": {},
   "source": [
    "Ahora si sustituimos los valores de $\\frac{dx}{dt}$,$\\frac{dy}{dt}$ y $\\frac{dz}{dt}$ en $T$ tenemos:\n",
    "$$T=\\frac{1}{2}m\\left(\\left(l cos \\theta \\frac{d\\theta}{dt}-lsen\\theta sen \\varphi\\frac{d\\varphi}{dt}\\right)^{2}+\\left(l cos \\theta \\frac{d\\theta}{dt} sen \\varphi + l sen \\theta cos \\varphi \\frac{d\\varphi}{dt}\\right)^{2}+\\left(-l sen \\theta \\frac{d\\theta}{dt}\\right)^{2}\\right)$$"
   ]
  },
  {
   "cell_type": "markdown",
   "metadata": {},
   "source": [
    "por conveniencia $\\dot{\\theta}=\\frac{d\\theta}{dt}$ y $\\dot{\\varphi}=\\frac{d\\varphi}{dt}$"
   ]
  },
  {
   "cell_type": "markdown",
   "metadata": {},
   "source": [
    "$$T=\\frac{1}{2}m\\left(\\left(l cos \\theta \\dot{\\theta}-lsen\\theta sen \\varphi\\dot{\\varphi}\\right)^{2}+\\left(l cos \\theta \\dot{\\theta} sen \\varphi + l sen \\theta cos \\varphi \\dot{\\varphi}\\right)^{2}+\\left(-l sen \\theta \\dot{\\theta}\\right)^{2}\\right)$$"
   ]
  },
  {
   "cell_type": "markdown",
   "metadata": {},
   "source": [
    "Desarrollando tenemos:\n",
    "\\begin{equation}\n",
    "\\begin{aligned}\n",
    "T&=\\frac{1}{2}m\\left(\\left(l cos\\theta \\dot{\\theta}-l sen\\theta sen\\varphi\\dot{\\varphi}\\right)^{2}+\\left(l cos\\theta \\dot{\\theta} sen\\varphi + l sen\\theta cos\\varphi \\dot{\\varphi}\\right)^{2}+\\left(-l sen\\theta \\dot{\\theta}\\right)^{2}\\right)\\\\\n",
    "&=\\frac{1}{2}m\\left(l^{2}cos^{2}\\theta\\dot{\\theta}^{2}cos^{2}\\varphi+l^{2}sen^{2}\\theta sen^{2} \\varphi\\dot{\\varphi}^{2}-2l^{2}cos\\theta sen\\theta sen\\varphi cos\\varphi \\dot{\\theta} \\dot{\\varphi}+l^{2}cos^{2}\\theta\\dot{\\theta}^{2} sen^{2}\\varphi+l^{2} sen^{2}\\theta cos^{2}\\varphi \\dot{\\varphi}^{2}+2l^{2}cos\\theta sen\\theta sen\\varphi cos\\varphi \\dot{\\theta} \\dot{\\varphi}+l^{2}sen^{2}\\theta \\dot{\\theta}\\right)\\\\\n",
    "&=\\frac{1}{2}m\\left(l^{2} cos^{2}\\theta \\dot{\\theta}^{2} cos^{2}\\varphi+l^{2}sen^{2}\\theta sen^{2}\\varphi \\dot{\\varphi}^{2} + l^{2} cos^{2}\\theta + l^{2} cos^{2}\\theta \\dot{\\theta}^{2} sen^{2}\\varphi + l^{2} sen^{2}\\theta cos^{2}\\varphi \\dot{\\varphi}^{2} + l^{2} sen^{2}\\theta \\dot{\\theta}^{2}\\right)\\\\\n",
    "&=\\frac{1}{2}m l^{2}\\left(cos^{2}\\theta \\dot{\\theta}^{2} cos^{2}\\varphi + sen^{2}\\theta sen^{2}\\varphi \\dot{\\varphi}^{2} + cos^{2}\\theta \\dot{\\theta}^{2} sen^{2}\\varphi + sen^{2}\\theta cos^{2}\\varphi \\dot{\\varphi}^{2} + sen^{2}\\theta \\dot{\\theta}^{2} \\right)\\\\\n",
    "&=\\frac{1}{2}m l^{2}\\left(\\dot{\\theta}^{2}\\left(cos^{2}\\theta cos^{2}\\varphi+cos^{2}\\theta sen^{2}\\varphi + sen^{2}\\theta \\right)+\\dot{\\varphi}^{2}\\left(sen^{2}\\theta sen^{2}\\varphi + sen^{2}\\theta cos^{2}\\varphi\\right)\\right)\\\\\n",
    "&=\\frac{1}{2}m l^{2}\\left(\\dot{\\theta}^{2}\\left(cos^{2}\\theta \\left(cos^{2}\\varphi + sen^{2}\\varphi \\right) + sen^{2}\\theta \\right)+\\dot{\\varphi}^{2}\\left(sen^{2}\\theta\\left(sen^{2}\\varphi + cos^{2}\\varphi\\right)\\right)\\right)\\\\\n",
    "&=\\frac{1}{2}m l^{2}\\left(\\dot{\\theta}^{2}\\left(cos^{2}\\theta  + sen^{2}\\theta \\right)+\\dot{\\varphi}^{2}sen^{2}\\theta\\right)\\\\\n",
    "&=\\frac{1}{2}ml^{2}\\left(\\dot{\\theta}^{2}+\\dot{\\varphi}^{2}sen^{2}\\theta\\right)\n",
    "\\end{aligned}\n",
    "\\end{equation}\n",
    "\n",
    "Entonces tenemos a la energía cinética como:\n",
    "$$T=\\frac{1}{2}ml^{2}\\left(\\dot{\\theta}^{2}+\\dot{\\varphi}^{2}sen^{2}\\theta\\right)$$\n"
   ]
  },
  {
   "cell_type": "markdown",
   "metadata": {},
   "source": [
    "Ahora obtendremos la energía potencial $V$:\n",
    "La energía potencial esta dada por $V=-mgz$ usando $z=l cos\\theta$:\n",
    "$$V=-mglcos\\theta$$\n"
   ]
  },
  {
   "cell_type": "markdown",
   "metadata": {},
   "source": [
    "Entonces la Lagrangia **$L=T-V$** la podemos reescribir sustituyendo $T$ y $V$ que ya obtuvimos:\n",
    "$$L=\\frac{1}{2}ml^{2}\\left(\\dot{\\theta}^{2}+\\dot{\\varphi}^{2}sen^{2}\\theta\\right)+mglcos\\theta$$"
   ]
  },
  {
   "cell_type": "markdown",
   "metadata": {},
   "source": [
    "Apartir de la Lagrangiana podemos obtener las ecuaciones de movimiento:"
   ]
  },
  {
   "cell_type": "markdown",
   "metadata": {},
   "source": [
    "La primer ecuación de movimiento es:\n",
    "$$\\frac{d}{dt}=\\left(\\frac{\\partial L}{\\partial \\dot{\\theta}}\\right)-\\frac{\\partial L}{\\partial \\theta}=0$$\n",
    "Sustituyendo y resolviendo tenemos:\n",
    "$$\n",
    "l\\frac{d^{2}\\theta}{dt^{2}}-l sen\\theta cos\\theta \\left(\\frac{d\\varphi}{dt}\\right)^{2}+g sen\\theta=0\\quad.....(1)\n",
    "$$\n",
    "    "
   ]
  },
  {
   "cell_type": "markdown",
   "metadata": {},
   "source": [
    "Y la segunda ecuación de movimiento es:\n",
    "$$\\frac{d}{dt}=\\left(\\frac{\\partial L}{\\partial \\dot{\\varphi}}\\right)-\\frac{\\partial L}{\\partial \\varphi}=0$$\n",
    "Sustituyendo y resolviendo tenemos:\n",
    "$$\\frac{d}{dt}\\left(m l^{2} sen^{2}\\theta \\frac{d\\varphi}{d\\theta}\\right)=0 \\quad.....(2)$$"
   ]
  },
  {
   "cell_type": "markdown",
   "metadata": {},
   "source": [
    "Como la lagrangiana $L$ no depende de $varphi$, de la segunda ecuación de movimiento obtenemos una cantidad $h$ que se conserva.\n",
    "$$sen^{2}\\theta \\frac{d\\varphi}{dt}=h$$\n",
    "\n",
    "está cantidad esta relacionada con el componente en $z$ del momento angular $L$:\n",
    "$$\\vec{L}=\\vec{r}\\times m\\vec{v}$$\n",
    "\n",
    "$$L_{z}=m\\left(x\\frac{dy}{dt}-y\\frac{dx}{dt}\\right)=ml^{2}sen^{2}\\theta\\frac{d\\varphi}{dt}$$"
   ]
  },
  {
   "cell_type": "markdown",
   "metadata": {},
   "source": [
    "Ahora recordemos que la frecuencia está dada por:\n",
    "$$\\omega_{0}^{2}=\\frac{g}{l}$$\n",
    "usando esto podemos reescribir la ecuación (1) de movimiento como:\n",
    "$$\\frac{d^{2}\\theta}{dt^{2}}-\\frac{h^{2}}{sen^{3}\\theta}cos\\theta+\\omega_{0}^{2}sen\\theta=0\\quad......(1.1)$$"
   ]
  },
  {
   "cell_type": "code",
   "execution_count": 2,
   "metadata": {},
   "outputs": [
    {
     "data": {
      "text/plain": [
       "V (generic function with 1 method)"
      ]
     },
     "execution_count": 2,
     "metadata": {},
     "output_type": "execute_result"
    }
   ],
   "source": [
    "l=1\n",
    "w0=sqrt(9.8/l)\n",
    "h2=21.1\n",
    "V(theta)=(h2/(2*sin(theta)*sin(theta))) - w_0^2*cos(theta)"
   ]
  },
  {
   "cell_type": "code",
   "execution_count": 3,
   "metadata": {},
   "outputs": [
    {
     "data": {
      "text/plain": [
       "raiz_bf (generic function with 2 methods)"
      ]
     },
     "execution_count": 3,
     "metadata": {},
     "output_type": "execute_result"
    }
   ],
   "source": [
    "function raiz_bf(funcion,intervalo,error=1e-4)\n",
    "    raiz = 0.5*(intervalo[1]+intervalo[2])\n",
    "    iteracion = 0\n",
    "    while abs(intervalo[2]-intervalo[1]) > error\n",
    "        f_izq , f_med = funcion(intervalo[1]) , funcion(raiz)\n",
    "        if f_izq*f_med < 0\n",
    "            intervalo[2] = raiz\n",
    "        else\n",
    "            intervalo[1] = raiz\n",
    "        end\n",
    "        raiz = 0.5*(intervalo[1]+intervalo[2])\n",
    "        iteracion += 1\n",
    "    end\n",
    "    return raiz,iteracion\n",
    "end"
   ]
  },
  {
   "cell_type": "code",
   "execution_count": 4,
   "metadata": {},
   "outputs": [
    {
     "ename": "UndefVarError",
     "evalue": "UndefVarError: w_0 not defined",
     "output_type": "error",
     "traceback": [
      "UndefVarError: w_0 not defined",
      "",
      "Stacktrace:",
      " [1] V(::Float64) at .\\In[2]:4",
      " [2] raiz_bf(::typeof(V), ::Array{Float64,1}, ::Float64) at .\\In[3]:5",
      " [3] raiz_bf(::Function, ::Array{Float64,1}) at .\\In[3]:2",
      " [4] top-level scope at In[4]:2"
     ]
    }
   ],
   "source": [
    "x = collect(0.4:0.0002:2.7)\n",
    "raiz = raiz_bf(V,[2.0,2.5])\n",
    "println(\"Valor de la raíz: \",raiz[1],\"\\t Número de iteraciones: \",raiz[2])\n",
    "raiz2 = raiz_bf(V,[0.4,0.55])\n",
    "println(\"Valor de la raíz: \",raiz2[1],\"\\t Número de iteraciones: \",raiz2[2])\n",
    "plot(x,V,label=\"V(θ)\",xlabel=\"x\",ylabel=\"f(x)\")\n",
    "scatter!([raiz[1]],[37.7],label=\"raíz\")\n",
    "scatter!([raiz2[1]],[37.7],label=\"raíz\")"
   ]
  },
  {
   "cell_type": "code",
   "execution_count": 5,
   "metadata": {},
   "outputs": [
    {
     "data": {
      "text/plain": [
       "pendulo_esf (generic function with 1 method)"
      ]
     },
     "execution_count": 5,
     "metadata": {},
     "output_type": "execute_result"
    }
   ],
   "source": [
    "function pendulo_esf(dx,x,p,t) \n",
    "    theta_d = x[1]\n",
    "    phi_d = x[2]\n",
    "    theta = x[3]\n",
    "    phi = x[4]\n",
    "    theta_dd = phi_d^2*cos(theta)*sin(theta)-g/l*sin(theta)\n",
    "    phi_dd = -2*theta_d*phi_d/tan(theta)\n",
    "    return [theta_d,phi_d,theta,phi,theta_dd,phi_dd]\n",
    "end"
   ]
  },
  {
   "cell_type": "code",
   "execution_count": 6,
   "metadata": {},
   "outputs": [
    {
     "data": {
      "text/plain": [
       "RK_2 (generic function with 1 method)"
      ]
     },
     "execution_count": 6,
     "metadata": {},
     "output_type": "execute_result"
    }
   ],
   "source": [
    "function RK_2(edo,x_ini,t)\n",
    "    sol = zeros( length(t) , length(x_ini) )\n",
    "    sol[1,:] .= x_ini\n",
    "    δ = t[2]-t[1]\n",
    "    for i in 1:length(t)-1\n",
    "        k1 = sol[i,:] .+ 0.5*δ .*edo(sol[i,:],t[i])\n",
    "        sol[i+1,:] .= sol[i,:] .+ δ*edo(k1,t[i]+0.5*δ)\n",
    "    end\n",
    "    return sol\n",
    "end"
   ]
  },
  {
   "cell_type": "code",
   "execution_count": 7,
   "metadata": {},
   "outputs": [
    {
     "data": {
      "text/plain": [
       "RK_4 (generic function with 1 method)"
      ]
     },
     "execution_count": 7,
     "metadata": {},
     "output_type": "execute_result"
    }
   ],
   "source": [
    "function RK_4(edo,x_ini,t)\n",
    "    sol = zeros( length(t) , length(x_ini) )\n",
    "    sol[1,:] .= x_ini\n",
    "    δ = t[2]-t[1]\n",
    "    for i in 1:length(t)-1\n",
    "        k1 = edo(sol[i,:],t[i])\n",
    "        k2 = edo(sol[i,:] .+ 0.5*δ.*k1 , t[i] + 0.5*δ)\n",
    "        k3 = edo(sol[i,:] .+ 0.5*δ.*k2 , t[i] + 0.5*δ)\n",
    "        k4 = edo(sol[i,:] .+ δ.*k2 , t[i] + δ)\n",
    "        sol[i+1,:] .= sol[i,:] .+ (δ/6.0).*(k1 .+ 2.0.*k2 .+ 2.0.*k3 .+ k4)\n",
    "    end\n",
    "    return sol\n",
    "end"
   ]
  },
  {
   "cell_type": "code",
   "execution_count": 8,
   "metadata": {},
   "outputs": [
    {
     "ename": "MethodError",
     "evalue": "MethodError: no method matching pendulo_esf(::Array{Float64,1}, ::Float64)\nClosest candidates are:\n  pendulo_esf(::Any, ::Any, !Matched::Any, !Matched::Any) at In[5]:2",
     "output_type": "error",
     "traceback": [
      "MethodError: no method matching pendulo_esf(::Array{Float64,1}, ::Float64)\nClosest candidates are:\n  pendulo_esf(::Any, ::Any, !Matched::Any, !Matched::Any) at In[5]:2",
      "",
      "Stacktrace:",
      " [1] RK_2(::typeof(pendulo_esf), ::Array{Float64,1}, ::Array{Float64,1}) at .\\In[6]:6",
      " [2] top-level scope at .\\In[8]:5"
     ]
    }
   ],
   "source": [
    "plot(title=\"Espacio Fase\",xlabel=L\"\\theta(t)\",ylabel=L\"v_{\\theta}(t)\")\n",
    "tiempo = collect(0:0.05:5π)\n",
    "th_ini_s = collect(0.1:0.25:π-0.1)\n",
    "for th_ini in th_ini_s\n",
    "    sol_num = RK_2(pendulo_esf,[th_ini,0],tiempo)\n",
    "    plot!(sol_num[:,1],sol_num[:,2])\n",
    "end\n",
    "plot!(legend=false)"
   ]
  },
  {
   "cell_type": "code",
   "execution_count": 9,
   "metadata": {},
   "outputs": [
    {
     "ename": "UndefVarError",
     "evalue": "UndefVarError: ODEProblem not defined",
     "output_type": "error",
     "traceback": [
      "UndefVarError: ODEProblem not defined",
      "",
      "Stacktrace:",
      " [1] top-level scope at In[9]:3"
     ]
    }
   ],
   "source": [
    "p_ini = [1.0,0.0] # punto inicial \n",
    "t = (0.0,2π) # intervalo de integración\n",
    "prob = ODEProblem(pendulo_esf,p_ini,t) # generacion del problema EDO\n",
    "sol_DE = solve(prob) # generar la solucion del problema\n",
    "\n",
    "sol_RK2 = RK_2(pendulo_esf,p_ini,tiempo)\n",
    "sol_RK4 = RK_4(pendulo_esf,p_ini,tiempo);"
   ]
  },
  {
   "cell_type": "code",
   "execution_count": 21,
   "metadata": {},
   "outputs": [
    {
     "ename": "UndefVarError",
     "evalue": "UndefVarError: sol_DE not defined",
     "output_type": "error",
     "traceback": [
      "UndefVarError: sol_DE not defined",
      "",
      "Stacktrace:",
      " [1] top-level scope at In[21]:2"
     ]
    }
   ],
   "source": [
    "plot(title=\"Comparación entre diferentes integradores\",xlabel=L\"\\theta (t)\",ylabel=L\"v_{\\theta}(t)\")\n",
    "plot!(sol_DE[1,:],sol_DE[2,:],label=\"DiffEq\",lw=2)\n",
    "plot!(sol_RK2[:,1],sol_RK2[:,2],label=\"RK 2\",lw=2)\n",
    "plot!(sol_RK4[:,1],sol_RK4[:,2],label=\"RK 4\",lw=2)"
   ]
  },
  {
   "cell_type": "markdown",
   "metadata": {},
   "source": [
    "## <span style=\"color:magenta\">Discusión y conclusión <span>"
   ]
  },
  {
   "cell_type": "code",
   "execution_count": null,
   "metadata": {},
   "outputs": [],
   "source": []
  },
  {
   "cell_type": "markdown",
   "metadata": {},
   "source": [
    "## <span style=\"color:magenta\">Bibliografía<span>"
   ]
  },
  {
   "cell_type": "code",
   "execution_count": null,
   "metadata": {},
   "outputs": [],
   "source": []
  }
 ],
 "metadata": {
  "kernelspec": {
   "display_name": "Julia 1.0.5",
   "language": "julia",
   "name": "julia-1.0"
  },
  "language_info": {
   "file_extension": ".jl",
   "mimetype": "application/julia",
   "name": "julia",
   "version": "1.0.5"
  }
 },
 "nbformat": 4,
 "nbformat_minor": 4
}
